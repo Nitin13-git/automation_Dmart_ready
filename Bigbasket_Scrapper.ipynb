{
  "cells": [
    {
      "cell_type": "markdown",
      "metadata": {
        "colab_type": "text",
        "id": "view-in-github"
      },
      "source": [
        "<a href=\"https://colab.research.google.com/github/robinsdeepak/BigBasket-Scrapper/blob/master/Bigbasket_Scrapper.ipynb\" target=\"_parent\"><img src=\"https://colab.research.google.com/assets/colab-badge.svg\" alt=\"Open In Colab\"/></a>"
      ]
    },
    {
      "cell_type": "code",
      "execution_count": null,
      "metadata": {
        "colab": {},
        "colab_type": "code",
        "id": "qIFQG_MbdLXT"
      },
      "outputs": [],
      "source": [
        "!apt-get update > /dev/null # --fix-missing\n",
        "!apt install chromium-chromedriver > /dev/null\n",
        "# !cp /usr/lib/chromium-browser/chromedriver /usr/bin > /dev/null\n",
        "!pip install selenium > /dev/null"
      ]
    },
    {
      "cell_type": "code",
      "execution_count": null,
      "metadata": {
        "colab": {},
        "colab_type": "code",
        "id": "P2xT3rSUw-L2"
      },
      "outputs": [],
      "source": [
        "!git clone https://github.com/robinsdeepak/BigBasket-Scrapper.git\n",
        "%cd BigBasket-Scrapper"
      ]
    },
    {
      "cell_type": "code",
      "execution_count": null,
      "metadata": {
        "colab": {},
        "colab_type": "code",
        "id": "ILZPfJSTtKHT"
      },
      "outputs": [],
      "source": [
        "!python Script.py"
      ]
    },
    {
      "cell_type": "code",
      "execution_count": null,
      "metadata": {
        "colab": {},
        "colab_type": "code",
        "id": "FoGGm5xjw37g"
      },
      "outputs": [],
      "source": []
    }
  ],
  "metadata": {
    "colab": {
      "collapsed_sections": [],
      "include_colab_link": true,
      "name": "Bigbasket-Scrapper",
      "provenance": []
    },
    "kernelspec": {
      "display_name": "Python 3.10.0 64-bit",
      "language": "python",
      "name": "python3"
    },
    "language_info": {
      "name": "python",
      "version": "3.10.0"
    },
    "vscode": {
      "interpreter": {
        "hash": "213524bb45a1aeaf737b1d8c77d7b8db5d425938d9dffc5f4bc6fe6dd3324700"
      }
    }
  },
  "nbformat": 4,
  "nbformat_minor": 0
}
